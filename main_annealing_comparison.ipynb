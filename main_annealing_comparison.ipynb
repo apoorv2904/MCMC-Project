{
 "cells": [
  {
   "cell_type": "markdown",
   "metadata": {},
   "source": [
    "# Importing necessary files\n"
   ]
  },
  {
   "cell_type": "code",
   "execution_count": 1,
   "metadata": {},
   "outputs": [],
   "source": [
    "\n",
    "from utils import *\n",
    "from annealing_schedules import *\n",
    "from mcmc import *\n",
    "from experiments import *"
   ]
  },
  {
   "cell_type": "markdown",
   "metadata": {},
   "source": [
    "# Comparing Cooling Strategies"
   ]
  },
  {
   "cell_type": "code",
   "execution_count": 2,
   "metadata": {},
   "outputs": [
    {
     "name": "stdout",
     "output_type": "stream",
     "text": [
      "metropolis\n",
      "Running 10 experiments.\n",
      "Running 10 experiments with \n",
      " n:50, alpha:1.00, N:60000 steps, Sampler:metropolis, \n",
      " Schedule:Constant Schedule 4.000\n",
      "\n",
      "\n",
      "                  Mean Final Energy: 1.465,                    Mean Final Error: 0.088\n",
      "                Mean Minimum Energy: 0.000,        Mean Error at Minimum Energy: 0.000\n",
      "       Mean Energy at Minimum Error: 0.000,                  Mean Minimum Error: 0.000\n",
      "                   Std Final Energy: 1.519,                     Std Final Error: 0.105\n",
      "                 Std Minimum Energy: 0.000,         Std Error at Minimum Energy: 0.000\n",
      "        Std Energy at Minimum Error: 0.000,                   Std Minimum Error: 0.000\n"
     ]
    }
   ],
   "source": [
    "t_start = 2.0\n",
    "t_freeze = 0.15\n",
    "N_steps = 60000\n",
    "dwell = 8000\n",
    "\n",
    "constant_schedule = ConstantSchedule(4.0)\n",
    "exp_mul_schedule = ExponentialMultiplicativeSchedule( T_start=t_start, T_freeze=t_freeze , alpha=0.80)\n",
    "log_mul_schedule = LogarithmicMultiplicativeSchedule( T_start=t_start , T_freeze=t_freeze , alpha=6.00)\n",
    "lin_mul_schedule = LinearMultiplicativeSchedule( T_start=t_start , T_freeze=t_freeze , alpha=2.00)\n",
    "lin_mul_schedule_1 = LinearMultiplicativeSchedule( T_start=t_start , T_freeze=t_freeze , alpha=1.00)\n",
    "quad_mul_schedule = QuadraticMultiplicativeSchedule( T_start=t_start , T_freeze=t_freeze , alpha=0.4)\n",
    "\n",
    "\n",
    "lin_add_schedule = LinearAdditiveSchedule( T_start = t_start , T_freeze = t_freeze, dwell = dwell)\n",
    "quad_add_schedule = QuadraticAdditiveSchedule( T_start = t_start, T_freeze = t_freeze, dwell = dwell)\n",
    "exp_add_schedule = ExponentialAdditiveSchedule( T_start = t_start, T_freeze = t_freeze, dwell = dwell)\n",
    "trig_add_schedule = TrignometricAdditiveSchedule( T_start = t_start, T_freeze = t_freeze, dwell = dwell)\n",
    "\n",
    "schedule_array = [constant_schedule, exp_mul_schedule, log_mul_schedule, \n",
    "                  lin_mul_schedule, lin_mul_schedule_1, quad_mul_schedule,\n",
    "                  lin_add_schedule, quad_add_schedule, trig_add_schedule]\n",
    "\n",
    "schedule_array = [constant_schedule]\n",
    "\n",
    "\n",
    "\n",
    "# Running an experiment via the Experiments class.\n",
    "seed = 123\n",
    "\n",
    "n_exp = 10\n",
    "n = 50\n",
    "alpha = 1.0\n",
    "N = N_steps\n",
    "\n",
    "show_plot = False\n",
    "print_statistics = False\n",
    "\n",
    "\n",
    "sampler = MCMC.metropolis\n",
    "experiments = defaultdict(defaultdict)\n",
    "for i,schedule in enumerate( schedule_array ): \n",
    "    \n",
    "    b_v = schedule.get_schedule(N)\n",
    "    schedule_name = schedule.name\n",
    "    experiments[i] = MultipleExperiments( n, alpha, N, b_v, n_exp, sampler, \n",
    "                                          show_plot, print_statistics, seed, schedule_name )\n",
    "    experiments[i].print_mean_statistics()\n",
    "\n"
   ]
  },
  {
   "cell_type": "code",
   "execution_count": null,
   "metadata": {},
   "outputs": [],
   "source": [
    "t_start = 2.0\n",
    "t_freeze = 0.15\n",
    "N_steps = 60000\n",
    "dwell = 8000\n",
    "\n",
    "constant_schedule = ConstantSchedule(4.0)\n",
    "exp_mul_schedule = ExponentialMultiplicativeSchedule( T_start=t_start, T_freeze=t_freeze , alpha=0.80)\n",
    "log_mul_schedule = LogarithmicMultiplicativeSchedule( T_start=t_start , T_freeze=t_freeze , alpha=6.00)\n",
    "lin_mul_schedule = LinearMultiplicativeSchedule( T_start=t_start , T_freeze=t_freeze , alpha=2.00)\n",
    "lin_mul_schedule_1 = LinearMultiplicativeSchedule( T_start=t_start , T_freeze=t_freeze , alpha=1.00)\n",
    "quad_mul_schedule = QuadraticMultiplicativeSchedule( T_start=t_start , T_freeze=t_freeze , alpha=0.4)\n",
    "\n",
    "\n",
    "lin_add_schedule = LinearAdditiveSchedule( T_start = t_start , T_freeze = t_freeze, dwell = dwell)\n",
    "quad_add_schedule = QuadraticAdditiveSchedule( T_start = t_start, T_freeze = t_freeze, dwell = dwell)\n",
    "trig_add_schedule = TrignometricAdditiveSchedule( T_start = t_start, T_freeze = t_freeze, dwell = dwell)\n",
    "\n",
    "schedule_array = [constant_schedule, exp_mul_schedule, log_mul_schedule, \n",
    "                  lin_mul_schedule, lin_mul_schedule_1, quad_mul_schedule,\n",
    "                  lin_add_schedule, quad_add_schedule, trig_add_schedule]\n",
    "\n",
    "\n",
    "\n",
    "# Running an experiment via the Experiments class.\n",
    "seed = 123\n",
    "\n",
    "n_exp = 10\n",
    "n = 20\n",
    "alpha = 1.0\n",
    "N = 2000\n",
    "\n",
    "show_plot = False\n",
    "print_statistics = False\n",
    "\n",
    "\n",
    "sampler = MCMC.metropolis\n",
    "experiments = defaultdict(defaultdict)\n",
    "\n",
    "for schedule in schedule_array: \n",
    "    \n",
    "    b_v = schedule.get_schedule(N)\n",
    "    title = \"\"\"Running %d experiments for n=%d, alpha=%.2f, N=%d, \\n schedule=%s,  seed=%d \"\"\" \\\n",
    "            %(n_exp, n, alpha, N, schedule.name, seed)\n",
    "    experiments[N], mean_error_exp, mean_energy_exp, std_error_exp, std_energy_exp = \\\n",
    "                    run_experiment_multiple_times( n, alpha, N, b_v, sampler, n_exp, \n",
    "                                                  show_plot, print_statistics, seed, title)\n",
    "    print('')\n",
    "\n"
   ]
  }
 ],
 "metadata": {
  "kernelspec": {
   "display_name": "Python 3",
   "language": "python",
   "name": "python3"
  },
  "language_info": {
   "codemirror_mode": {
    "name": "ipython",
    "version": 3
   },
   "file_extension": ".py",
   "mimetype": "text/x-python",
   "name": "python",
   "nbconvert_exporter": "python",
   "pygments_lexer": "ipython3",
   "version": "3.6.5"
  }
 },
 "nbformat": 4,
 "nbformat_minor": 2
}
